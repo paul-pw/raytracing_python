{
 "cells": [
  {
   "cell_type": "markdown",
   "metadata": {},
   "source": [
    "# Ray Tracing\n",
    "\n",
    "## Grundlagen\n",
    "\n",
    "Was ist die grundlegende Idee von Raytracing?\n",
    "Wichtig ist dafür zuerst zu verstehen wie Licht funktioniert.\n",
    "\n",
    "Ein einfacher Ansatz dafür ist, anzunehmen das Licht aus Strahlen besteht.  \n",
    "Diese Strahlen werden aus einer Lichtquelle ausgesendet, werden von Objekten reflektiert und absorbiert und zu guter Letzt kommen sie im Beobachters an.  \n",
    "Der Beobachter wird hier Kamera genannt.\n",
    "\n",
    "Schematisch und zwei dimensional sieht das so aus:\n",
    "![][2d_ray_tracing]<!--TODO bild besser einfügen-->\n",
    "\n",
    "Schritt für Schritt müssen also folgende Dinge geschehen: <!--TODO bessere Formulierung-->\n",
    "\n",
    "1. Die Lichtquelle sendet einen Lichtstrahl aus\n",
    "2. Dieser Lichtstrahl trifft auf ein Objekt\n",
    "3. Das Objekt reflektiert und absorbiert teil des Lichtstrahls\n",
    "4. Schritt 2 und 3 wiederholen sich bis der Lichtstrahl entweder eine Kamera oder kein Objekt mehr trifft\n",
    "5. Lichtstrahl trifft auf die Kamera\n",
    "6. Schritt 1 bis 6 werden wiederholt bis der Nutzer mit dem gerenderten Bild zufrieden ist\n",
    "\n",
    "Dieser Ansatz ist allerdings sehr ineffizient, da dann viele Lichtstrahlen keine Kamera treffen.\n",
    "Für eine bessere Optimierung werden die Lichtstrahlen aus der Kamera ausgesendet und der Lichtpfad wird erst nach dem Auftreffen auf die Lichtquelle vollständig berechnet.\n",
    "\n",
    "<!--TODO bild durch nur kreise ersetzen-->\n",
    "[2d_ray_tracing]: ./assets/2D_ray_tracing.png"
   ]
  },
  {
   "cell_type": "markdown",
   "metadata": {},
   "source": [
    "\n",
    "## Lichtstrahlen (Rays)\n",
    "    \n",
    "Ein Lichtstrahl besteht aus Ortsvektor und Richtungsvektor.\n",
    "Der Ortsvektor gibt dabei den Punkt an, an dem der Lichtstrahl ausgesendet wurde\n",
    "und der Richtungsvektor die Richtung in die der Strahl gesendet wird.  \n",
    "Also $\\vec{ray(t)}=\\vec{O}+\\vec{d}*t$\n",
    "außerdem hat ein Lichtstrahl eine Farbe `color`, die zu Beginn `[1,1,1]`\n",
    "\n",
    "<!--TODO Bild-->\n",
    "\n",
    "in Python definieren wir einen Ray so:"
   ]
  },
  {
   "cell_type": "code",
   "execution_count": 245,
   "metadata": {},
   "outputs": [],
   "source": [
    "import numpy as np\n",
    "import numpy.typing as npt\n",
    "from typing import NamedTuple, Tuple\n",
    "\n",
    "Vec = npt.NDArray[np.float64]\n",
    "Color = npt.NDArray[np.float64]\n",
    "\n",
    "\n",
    "class Ray(NamedTuple):\n",
    "    location: Vec\n",
    "    direction: Vec\n",
    "    color: Color\n",
    "    \n",
    "    def at(self, t):\n",
    "        return self.location + t * self.direction\n"
   ]
  },
  {
   "cell_type": "markdown",
   "metadata": {},
   "source": [
    "Typischerweise ist der Richtungsvektor normiert, dafür dient diese Funktion"
   ]
  },
  {
   "cell_type": "code",
   "execution_count": 235,
   "metadata": {},
   "outputs": [
    {
     "name": "stdout",
     "output_type": "stream",
     "text": [
      "[0.26726124 0.53452248 0.80178373]\n"
     ]
    }
   ],
   "source": [
    "def normalizeVector(vec: Vec):\n",
    "    return vec/np.linalg.norm(vec)\n",
    "\n",
    "print(normalizeVector(np.array([1, 2, 3])))\n"
   ]
  },
  {
   "cell_type": "markdown",
   "metadata": {},
   "source": [
    "## Aussenden eines Lichtstrahls\n",
    "\n",
    "Die Kamera sendet Lichtstrahlen aus.\n",
    "Die Kamera ist modelliert als eine Lochkamera. Es gibt einen Sensor, auf dem alle Pixel liegen. Der Sensor ist eine Fläche.\n",
    "Alle Lichtstrahlen werden von den Pixeln des Sensors über einen Punkt, die Blende, ausgesendet.\n",
    "\n",
    "<!--TODO Bild-->\n"
   ]
  },
  {
   "cell_type": "code",
   "execution_count": 236,
   "metadata": {},
   "outputs": [
    {
     "data": {
      "text/plain": [
       "Ray(location=array([0, 0, 0]), direction=array([ 0.89442719, -0.31622777, -0.31622777]), color=array([1, 1, 1]))"
      ]
     },
     "execution_count": 236,
     "metadata": {},
     "output_type": "execute_result"
    }
   ],
   "source": [
    "class ImageSize(NamedTuple):\n",
    "    width: int\n",
    "    height: int\n",
    "\n",
    "class Camera:\n",
    "    def __init__(self, imageSize: ImageSize) -> None:\n",
    "        assert 0 < imageSize.width and 0 < imageSize.height, f\"image cant have negative Dimestions, was {imageSize}\"\n",
    "        self.imageSize = imageSize\n",
    "        self.unitPerPixel = np.sqrt(self.imageSize.width ** 2 + self.imageSize.height ** 2)\n",
    "        self.sensorPosition = np.array([1,0,0])\n",
    "        self.aperturePosition = np.array([0,0,0])\n",
    "    \n",
    "    def _getRay(self, pixelX:int,pixelY:int) -> Ray:\n",
    "        assert 0 <= pixelX < self.imageSize.width, f\"pixelX has to be in Image, was {pixelX}\" \n",
    "        assert 0 <= pixelY < self.imageSize.height, f\"pixelY has to be in Image, was {pixelY}\"\n",
    "        x = -self.imageSize.width/2 + pixelX\n",
    "        y = -self.imageSize.height/2 + pixelY\n",
    "        pixelPos = self.sensorPosition + np.array([0, x/self.unitPerPixel, y/self.unitPerPixel])\n",
    "        rayDirection = normalizeVector(pixelPos - self.aperturePosition)\n",
    "        return Ray(self.aperturePosition, rayDirection, np.array([1,1,1])) # TODO eigentlich is es falsch mit 1,1,1 anzufangen...\n",
    "\n",
    "camera = Camera(ImageSize(128, 128))\n",
    "camera._getRay(0,0)"
   ]
  },
  {
   "cell_type": "markdown",
   "metadata": {},
   "source": [
    "\n",
    "## Schnittpunkt eines Lichtstrahls mit einem Objekt\n",
    "\n",
    "Nachdem der Lichtstrahl ausgesendet wurde, muss der erste Auftreffpunkt des Lichtstrahls auf einem Objekt berechnet werden.\n",
    "Hier werden zur Vereinfachung nur Kreise als Objekte genutzt. \n",
    "Schnittpunkte sind dabei alle Punkte, die genau den Radius $r$ des Kreises von dessen Mittelpunkt $C$ entfernt sind.\n",
    "also:\n",
    "\n",
    "$$\n",
    "||\\vec{P}-\\vec{C}||=r\n",
    "$$\n",
    "\n",
    "Für die Lichtstrahlen gilt damit\n",
    "\n",
    "$$\n",
    "||\\vec{ray(t)}-\\vec{C}||=r\n",
    "$$\n",
    "$$\n",
    "||\\vec{O}+\\vec{d}*t-\\vec{C}|| = r\n",
    "$$\n",
    "\n",
    "umgeformt ergibt das eine Quadratische Gleichung:\n",
    "\n",
    "$$\n",
    "||\\vec{d}||^2*t^2+2t*<\\vec{d},\\vec{O}-\\vec{C}>+<\\vec{O}-\\vec{C},\\vec{O}-\\vec{C}>-r^2=0\n",
    "$$\n",
    "\n",
    "um die Schnittpunkte heruaszufinden, muss die Gleichung nacht $t$ aufgelöst werden. \n",
    "Das wird hier in code umgesetzt."
   ]
  },
  {
   "cell_type": "code",
   "execution_count": 251,
   "metadata": {},
   "outputs": [
    {
     "data": {
      "text/plain": [
       "4.0"
      ]
     },
     "execution_count": 251,
     "metadata": {},
     "output_type": "execute_result"
    }
   ],
   "source": [
    "from abc import ABC, abstractmethod \n",
    "from typing import Optional\n",
    "\n",
    "\n",
    "class Object(ABC):\n",
    "    @abstractmethod\n",
    "    def hit(self, ray: Ray) -> Optional[float]:\n",
    "        pass\n",
    "\n",
    "class Circle(Object):\n",
    "    def __init__(self, center: Vec, radius: float) -> None:\n",
    "        self.center = center\n",
    "        self.radius = radius\n",
    "        super().__init__()\n",
    "\n",
    "    def hit(self, ray: Ray) -> Optional[float]:\n",
    "        a = 1\n",
    "        b = 2 * np.dot(ray.direction, ray.location - self.center)\n",
    "        c = np.linalg.norm(ray.location - self.center) ** 2 - self.radius ** 2\n",
    "        delta = b ** 2 - 4*a*c\n",
    "        if delta > 0:\n",
    "            t1 = (-b + np.sqrt(delta))/(2*a)\n",
    "            t2 = (-b - np.sqrt(delta))/(2*a)\n",
    "            # return only the first hit and only if its > 0\n",
    "            t = min(t1, t2)\n",
    "            t = t if t>0 else max(t1,t2)\n",
    "            t = None if t<0 else t\n",
    "            return t\n",
    "        return None\n",
    "    \n",
    "\n",
    "ray = Ray(np.array([0,0,0]),np.array([1,0,0]), np.array([1,1,1]))\n",
    "circle: Object = Circle(np.array([5,0,0]),1)\n",
    "circle.hit(ray)"
   ]
  },
  {
   "cell_type": "markdown",
   "metadata": {},
   "source": [
    "Diese Berechnung muss nun für alle Objekte gemacht werden. Dabei ergeben sich voraussichtlich mehrere Werte für $t$.\n",
    "Der Auftreffpunkt des Lichtstrahls ist der Punkt, für den $t$ minimal aber größer Null ist. "
   ]
  },
  {
   "cell_type": "markdown",
   "metadata": {},
   "source": [
    "## Erster Test\n",
    "\n",
    "Nun kann alles ein erstes Mal getestet werden.\n",
    "Dafür wird eine einfache Render Funktion erstellt.\n",
    "Diese kann unterscheiden, ob ein Objekt mit einem Lichtstrahl getroffen wurde oder nicht.\n",
    "\n",
    "<!--TODO text hier-->"
   ]
  },
  {
   "cell_type": "code",
   "execution_count": 252,
   "metadata": {},
   "outputs": [
    {
     "data": {
      "text/plain": [
       "<matplotlib.image.AxesImage at 0x28ca3958460>"
      ]
     },
     "execution_count": 252,
     "metadata": {},
     "output_type": "execute_result"
    },
    {
     "data": {
      "image/png": "[encoded data removed]",
      "text/plain": [
       "<Figure size 640x480 with 1 Axes>"
      ]
     },
     "metadata": {},
     "output_type": "display_data"
    }
   ],
   "source": [
    "import matplotlib.pyplot as plt\n",
    "\n",
    "camera = Camera(ImageSize(256, 512))\n",
    "objects: list[Object] = [Circle(np.array([5, 0, 0]), 1)]\n",
    "\n",
    "def render(camera: Camera, objects: list[Object]):\n",
    "    img = np.zeros(camera.imageSize)\n",
    "    for x in range(camera.imageSize.width):\n",
    "        for y in range(camera.imageSize.height):\n",
    "            ray = camera._getRay(x, y)\n",
    "            hits = []\n",
    "            for obj in objects:\n",
    "                hit = obj.hit(ray)\n",
    "                if hit is not None:\n",
    "                    hits.append(hit)\n",
    "            if len(hits) > 0:\n",
    "                img[x, y] = 1\n",
    "    return img\n",
    "plt.imshow(render(camera, objects))"
   ]
  },
  {
   "cell_type": "markdown",
   "metadata": {},
   "source": [
    "## Materialien\n",
    "\n",
    "Bis jetzt gibt es nur zwei Zustände: Der Lichtstrahl trifft ein Objekt und der Lichtstrahl trifft kein Objekt.\n",
    "Das reicht allerdings nicht aus, um ein Bild zu erzeugen. Dafür werden nun Materialien eingeführt, die den Objekten eine Farbe geben. "
   ]
  },
  {
   "cell_type": "code",
   "execution_count": 258,
   "metadata": {},
   "outputs": [],
   "source": [
    "# NEU: es gibt ein Material, in dem eine Farbe deffiniert ist\n",
    "class Material():\n",
    "    def __init__(self, color) -> None:\n",
    "        self.color = color\n",
    "        super().__init__()\n",
    "\n",
    "# NEU: wenn ein Objekt getroffen wird, muss zusätzlich das Material des Objekts zurück gegeben werden\n",
    "class Object(ABC):\n",
    "    @abstractmethod\n",
    "    def hit(self, ray: Ray) -> Optional[Tuple[float, Material]]:\n",
    "        pass\n",
    "\n",
    "\n",
    "class Circle(Object):\n",
    "    def __init__(self, center: Vec, radius: float, material: Material) -> None:\n",
    "        self.center = center\n",
    "        self.radius = radius\n",
    "        self.material = material\n",
    "        super().__init__()\n",
    "\n",
    "    def hit(self, ray: Ray) -> Optional[Tuple[float, Material]]:\n",
    "        a = 1\n",
    "        b = 2 * np.dot(ray.direction, ray.location - self.center)\n",
    "        c = np.linalg.norm(ray.location - self.center) ** 2 - self.radius ** 2\n",
    "        delta = b ** 2 - 4*a*c\n",
    "        if delta > 0:\n",
    "            t1 = (-b + np.sqrt(delta))/(2*a)\n",
    "            t2 = (-b - np.sqrt(delta))/(2*a)\n",
    "            # return only the first hit and only if its > 0\n",
    "            t = min(t1, t2)\n",
    "            t = t if t > 0 else max(t1, t2)\n",
    "            return None if t < 0 else (t, self.material)\n",
    "        return None\n"
   ]
  },
  {
   "cell_type": "markdown",
   "metadata": {},
   "source": [
    "Mit der Einführung von Materialien muss auch die Rendering Funktion angepasst werden."
   ]
  },
  {
   "cell_type": "code",
   "execution_count": 259,
   "metadata": {},
   "outputs": [
    {
     "data": {
      "text/plain": [
       "<matplotlib.image.AxesImage at 0x28ca368c730>"
      ]
     },
     "execution_count": 259,
     "metadata": {},
     "output_type": "execute_result"
    },
    {
     "data": {
      "image/png": "[encoded data removed]",
      "text/plain": [
       "<Figure size 640x480 with 1 Axes>"
      ]
     },
     "metadata": {},
     "output_type": "display_data"
    }
   ],
   "source": [
    "camera = Camera(ImageSize(256, 512))\n",
    "objects: list[Object] = [Circle(np.array([50, 0, 0]), 10, Material([1,1,0])),\n",
    "                         Circle(np.array([0, 5000, 0]), 4990, Material([0, 1, 0])),\n",
    "                         Circle(np.array([0, 0, 0]), 5000, Material([0, 0, 1]))]\n",
    "\n",
    "def render(camera: Camera, objects: list[Object]):\n",
    "    img = np.zeros((camera.imageSize.width,camera.imageSize.height, 3))\n",
    "    for x in range(camera.imageSize.width):\n",
    "        for y in range(camera.imageSize.height):\n",
    "            ray = camera._getRay(x, y)\n",
    "            hits: list[Tuple[float, Material]] = []\n",
    "            for obj in objects:\n",
    "                hit = obj.hit(ray)\n",
    "                if hit is not None:\n",
    "                    hits.append(hit)\n",
    "            if len(hits) == 0:\n",
    "                img[x, y] = [0,0,0]\n",
    "                continue\n",
    "            criticalHit = min(hits, key=lambda hit: hit[0])\n",
    "            img[x,y] = criticalHit[1].color * ray.color\n",
    "    return img\n",
    "plt.imshow(render(camera, objects))\n"
   ]
  },
  {
   "cell_type": "markdown",
   "metadata": {},
   "source": [
    "## Lichtstrahl Reflexion/Absorption\n",
    "\n",
    "Jetzt wollen wir, dass Lichtstrahlen von Objekten mehrfach abprallen können.\n",
    "Dafür wird ein Algorithmus benötigt, der das Abprallen der Lichtstrahlen abbildet.\n",
    "Um das umsetzten zu können, muss bei einem Auftreffen eines Lichtstrahls neben dem Material, das Objektes auch ein Normalen Vektor des Auftreffpunkts zurückgegeben werden.\n",
    "Dieser wird genutzt, um den weitergehenden ausgehenden Lichtstrahl zu bestimmen."
   ]
  },
  {
   "cell_type": "code",
   "execution_count": 265,
   "metadata": {},
   "outputs": [],
   "source": [
    "# NEU: neben dem Material, muss nun auch der Normalen Vektor des Objekts zurückgegeben werden\n",
    "# Um den Rückgabewert lesbarer zu machen, wird ein Rückgabeobjekt eingeführt\n",
    "\n",
    "class ObjHit(NamedTuple):\n",
    "    t: float\n",
    "    material: Material\n",
    "    normal: Vec\n",
    "\n",
    "class Object(ABC):\n",
    "    @abstractmethod\n",
    "    def hit(self, ray: Ray) -> Optional[ObjHit]:\n",
    "        pass\n",
    "\n",
    "\n",
    "class Circle(Object):\n",
    "    def __init__(self, center: Vec, radius: float, material: Material) -> None:\n",
    "        self.center = center\n",
    "        self.radius = radius\n",
    "        self.material = material\n",
    "        super().__init__()\n",
    "\n",
    "    def hit(self, ray: Ray) -> Optional[ObjHit]:\n",
    "        a = 1\n",
    "        b = 2 * np.dot(ray.direction, ray.location - self.center)\n",
    "        c = np.linalg.norm(ray.location - self.center) ** 2 - self.radius ** 2\n",
    "        delta = b ** 2 - 4*a*c\n",
    "        if delta > 0:\n",
    "            t1 = (-b + np.sqrt(delta))/(2*a)\n",
    "            t2 = (-b - np.sqrt(delta))/(2*a)\n",
    "            # return only the first hit and only if its > 0\n",
    "            t = min(t1, t2)\n",
    "            t = t if t > 0 else max(t1, t2)\n",
    "            normal = normalizeVector(ray.at(t) - self.center)\n",
    "            return None if t <= 0 else ObjHit(t, self.material, normal)\n",
    "        return None"
   ]
  },
  {
   "cell_type": "markdown",
   "metadata": {},
   "source": [
    "Ein einfaches Material ist ein Diffuses Material. \n",
    "Dafür wird die Lambertsche Reflektion verwendet.\n",
    "Es wird von der Normalen aus in Abstand $1$ eine Einheitskugel erstellt.\n",
    "Dann wird ein Punkt auf der Oberfläche der Kugel ausgewählt.\n",
    "Die Reflektion ist dann der Vektor von dem Auftreffpunkt zu dem Punkt auf der Oberfläche der Kugel.\n",
    "\n",
    "Es ist also nötig einen zufälligen Punkt auf der Kugeloberfläche zu wählen.\n",
    "Das wird hier mit der folgenden Funktion implementiert"
   ]
  },
  {
   "cell_type": "code",
   "execution_count": 266,
   "metadata": {},
   "outputs": [
    {
     "data": {
      "text/plain": [
       "array([-0.14194589,  0.74268433, -0.65442444])"
      ]
     },
     "execution_count": 266,
     "metadata": {},
     "output_type": "execute_result"
    }
   ],
   "source": [
    "def randomOnUnitSphere() -> Vec:\n",
    "    randNumber = np.random.randn(3)\n",
    "    return randNumber / np.linalg.norm(randNumber)\n",
    "\n",
    "randomOnUnitSphere()"
   ]
  },
  {
   "cell_type": "markdown",
   "metadata": {},
   "source": [
    "Mit diesem Wissen kann ein neues Material implementiert werden,\n",
    "da es mehrere verschiedene Materialien geben wird,\n",
    "wird ein Material als abstrakte Klasse implementiert.\n",
    "Diese hat eine Funktion, die mit dem eingehenden Lichtstrahl, dem Normalenvektor und dem Auftreffpunkt, den ausgehenden Lichtstrahl berechnet.\n",
    "\n",
    "Neben dem diffusen Material muss es auch noch eine Lichtquelle geben. \n",
    "Dieses wird auch als Material, dem Emissive Material, implementiert.\n",
    "Ein diffuses Material reflektiert allerdings keine Lichtstrahlen und muss damit beim Rendern das Rendering abbrechen."
   ]
  },
  {
   "cell_type": "code",
   "execution_count": 267,
   "metadata": {},
   "outputs": [],
   "source": [
    "# NEU: ein Material deffiniert eine Methode die mit dem eigehenden Lichtstrahl\n",
    "# aus dem eingehenden Lichtstrahl berechnet\n",
    "# Das Material ist außerdem abstrakt\n",
    "class Material(ABC):\n",
    "    @abstractmethod\n",
    "    def outRay(self, inRay: Ray, normal: Vec, hitPoint: Vec) -> Ray:\n",
    "        pass\n",
    "\n",
    "\n",
    "# NEU: das Diffuse Material\n",
    "class Diffuse(Material):\n",
    "    def __init__(self, color) -> None:\n",
    "        self.color = color\n",
    "        super().__init__()\n",
    "\n",
    "    def outRay(self, inRay: Ray, normal: Vec, hitPoint: Vec) -> Ray:\n",
    "        point = randomOnUnitSphere() + normalizeVector(normal) + hitPoint\n",
    "        direction = normalizeVector(point - hitPoint)\n",
    "        location = hitPoint\n",
    "        color = inRay.color * self.color\n",
    "        return Ray(location, direction, color)\n",
    "\n",
    "# NEU: das Emmisive Material\n",
    "class Emissive(Material):\n",
    "    def __init__(self, color) -> None:\n",
    "        self.color = color\n",
    "        super().__init__()\n",
    "\n",
    "    def outRay(self, inRay: Ray, normal: Vec, hitPoint: Vec) -> Ray:\n",
    "        direction = np.array([0,0,0])\n",
    "        location = np.array([0,0,0])\n",
    "        color = inRay.color * self.color\n",
    "        return Ray(location, direction, color)\n"
   ]
  },
  {
   "cell_type": "code",
   "execution_count": 271,
   "metadata": {},
   "outputs": [
    {
     "data": {
      "text/plain": [
       "<matplotlib.image.AxesImage at 0x28ca3cec640>"
      ]
     },
     "execution_count": 271,
     "metadata": {},
     "output_type": "execute_result"
    },
    {
     "data": {
      "image/png": "[encoded data removed]",
      "text/plain": [
       "<Figure size 640x480 with 1 Axes>"
      ]
     },
     "metadata": {},
     "output_type": "display_data"
    }
   ],
   "source": [
    "camera = Camera(ImageSize(50, 50))\n",
    "c = Circle(np.array([50, 0, 0]), 10, Diffuse([0.5, 0.7, 0.5]))\n",
    "objects: list[Object] = [Circle(np.array([50, 0, 0]), 10, Diffuse([0.5, 0.7, 0.5])),\n",
    "                         Circle(np.array([0, 5000, 0]),\n",
    "                                4990, Diffuse([0.5, 0.5, 0.7])),\n",
    "                         Circle(np.array([0, 0, 0]), 5000, Emissive([5, 5, 5]))]\n",
    "\n",
    "def render(camera: Camera, objects: list[Object]):\n",
    "    img = np.zeros((camera.imageSize.width, camera.imageSize.height, 3))\n",
    "    for x in range(camera.imageSize.width):\n",
    "        for y in range(camera.imageSize.height):\n",
    "            ray = camera._getRay(x, y)\n",
    "            for i in range(7):\n",
    "                hits = []\n",
    "                for obj in objects:\n",
    "                    hit = obj.hit(ray)\n",
    "                    if hit is not None:\n",
    "                        hits.append(hit)\n",
    "                if len(hits) == 0:\n",
    "                    img[x, y] = [0, 0, 0]\n",
    "                    break\n",
    "                criticalHit = min(hits, key=lambda hit: hit[0])\n",
    "                point = ray.at(criticalHit.t)\n",
    "                ray = criticalHit.material.outRay(ray, criticalHit.normal, point)\n",
    "                if all(map(lambda x: x==0, ray.direction)):\n",
    "                    break\n",
    "            img[x, y] = ray.color\n",
    "    return img\n",
    "\n",
    "img = render(camera,objects)\n",
    "img = img/50\n",
    "img = np.sqrt(img*2.2) # Gamma 2.2\n",
    "plt.imshow(img)\n"
   ]
  },
  {
   "cell_type": "code",
   "execution_count": 272,
   "metadata": {},
   "outputs": [
    {
     "data": {
      "text/plain": [
       "<matplotlib.image.AxesImage at 0x28ca3f319f0>"
      ]
     },
     "execution_count": 272,
     "metadata": {},
     "output_type": "execute_result"
    },
    {
     "data": {
      "image/png": "[encoded data removed]",
      "text/plain": [
       "<Figure size 640x480 with 1 Axes>"
      ]
     },
     "metadata": {},
     "output_type": "display_data"
    }
   ],
   "source": [
    "n = img/50\n",
    "n = np.sqrt(n*2.2)\n",
    "plt.imshow(n)"
   ]
  },
  {
   "cell_type": "markdown",
   "metadata": {},
   "source": [
    "## Optimierungen"
   ]
  },
  {
   "cell_type": "code",
   "execution_count": 273,
   "metadata": {},
   "outputs": [
    {
     "name": "stdout",
     "output_type": "stream",
     "text": [
      "[[0.26726124 0.53452248 0.80178373]\n",
      " [0.26726124 0.53452248 0.80178373]]\n",
      "[0.26726124 0.53452248 0.80178373]\n"
     ]
    }
   ],
   "source": [
    "def normalizeVector(vec: Vec, useAxis=None):\n",
    "    return vec/np.linalg.norm(vec, axis=useAxis, keepdims=True)\n",
    "\n",
    "\n",
    "print(normalizeVector(np.array([[1.0, 2, 3], [1, 2, 3]]), 1))\n",
    "print(normalizeVector(np.array([1, 2, 3])))\n"
   ]
  },
  {
   "cell_type": "code",
   "execution_count": 284,
   "metadata": {},
   "outputs": [
    {
     "name": "stdout",
     "output_type": "stream",
     "text": [
      "[[[ 0.          0.          0.        ]\n",
      "  [ 0.89442719 -0.31622777 -0.31622777]]\n",
      "\n",
      " [[ 0.          0.          0.        ]\n",
      "  [ 0.91465912 -0.32338083 -0.24253563]]\n",
      "\n",
      " [[ 0.          0.          0.        ]\n",
      "  [ 0.92998111 -0.32879797 -0.16439899]]\n",
      "\n",
      " [[ 0.          0.          0.        ]\n",
      "  [ 0.93955235 -0.33218192 -0.08304548]]\n",
      "\n",
      " [[ 0.          0.          0.        ]\n",
      "  [ 0.94280904 -0.33333333  0.        ]]\n",
      "\n",
      " [[ 0.          0.          0.        ]\n",
      "  [ 0.93955235 -0.33218192  0.08304548]]\n",
      "\n",
      " [[ 0.          0.          0.        ]\n",
      "  [ 0.92998111 -0.32879797  0.16439899]]\n",
      "\n",
      " [[ 0.          0.          0.        ]\n",
      "  [ 0.91465912 -0.32338083  0.24253563]]\n",
      "\n",
      " [[ 0.          0.          0.        ]\n",
      "  [ 0.91465912 -0.24253563 -0.32338083]]\n",
      "\n",
      " [[ 0.          0.          0.        ]\n",
      "  [ 0.93632918 -0.24828177 -0.24828177]]\n",
      "\n",
      " [[ 0.          0.          0.        ]\n",
      "  [ 0.95278613 -0.25264558 -0.16843038]]\n",
      "\n",
      " [[ 0.          0.          0.        ]\n",
      "  [ 0.96308682 -0.25537696 -0.08512565]]\n",
      "\n",
      " [[ 0.          0.          0.        ]\n",
      "  [ 0.96659535 -0.2563073   0.        ]]\n",
      "\n",
      " [[ 0.          0.          0.        ]\n",
      "  [ 0.96308682 -0.25537696  0.08512565]]\n",
      "\n",
      " [[ 0.          0.          0.        ]\n",
      "  [ 0.95278613 -0.25264558  0.16843038]]\n",
      "\n",
      " [[ 0.          0.          0.        ]\n",
      "  [ 0.93632918 -0.24828177  0.24828177]]\n",
      "\n",
      " [[ 0.          0.          0.        ]\n",
      "  [ 0.92998111 -0.16439899 -0.32879797]]\n",
      "\n",
      " [[ 0.          0.          0.        ]\n",
      "  [ 0.95278613 -0.16843038 -0.25264558]]\n",
      "\n",
      " [[ 0.          0.          0.        ]\n",
      "  [ 0.9701425  -0.17149859 -0.17149859]]\n",
      "\n",
      " [[ 0.          0.          0.        ]\n",
      "  [ 0.98102294 -0.17342199 -0.086711  ]]\n",
      "\n",
      " [[ 0.          0.          0.        ]\n",
      "  [ 0.98473193 -0.17407766  0.        ]]\n",
      "\n",
      " [[ 0.          0.          0.        ]\n",
      "  [ 0.98102294 -0.17342199  0.086711  ]]\n",
      "\n",
      " [[ 0.          0.          0.        ]\n",
      "  [ 0.9701425  -0.17149859  0.17149859]]\n",
      "\n",
      " [[ 0.          0.          0.        ]\n",
      "  [ 0.95278613 -0.16843038  0.25264558]]\n",
      "\n",
      " [[ 0.          0.          0.        ]\n",
      "  [ 0.93955235 -0.08304548 -0.33218192]]\n",
      "\n",
      " [[ 0.          0.          0.        ]\n",
      "  [ 0.96308682 -0.08512565 -0.25537696]]\n",
      "\n",
      " [[ 0.          0.          0.        ]\n",
      "  [ 0.98102294 -0.086711   -0.17342199]]\n",
      "\n",
      " [[ 0.          0.          0.        ]\n",
      "  [ 0.99227788 -0.0877058  -0.0877058 ]]\n",
      "\n",
      " [[ 0.          0.          0.        ]\n",
      "  [ 0.99611649 -0.08804509  0.        ]]\n",
      "\n",
      " [[ 0.          0.          0.        ]\n",
      "  [ 0.99227788 -0.0877058   0.0877058 ]]\n",
      "\n",
      " [[ 0.          0.          0.        ]\n",
      "  [ 0.98102294 -0.086711    0.17342199]]\n",
      "\n",
      " [[ 0.          0.          0.        ]\n",
      "  [ 0.96308682 -0.08512565  0.25537696]]\n",
      "\n",
      " [[ 0.          0.          0.        ]\n",
      "  [ 0.94280904  0.         -0.33333333]]\n",
      "\n",
      " [[ 0.          0.          0.        ]\n",
      "  [ 0.96659535  0.         -0.2563073 ]]\n",
      "\n",
      " [[ 0.          0.          0.        ]\n",
      "  [ 0.98473193  0.         -0.17407766]]\n",
      "\n",
      " [[ 0.          0.          0.        ]\n",
      "  [ 0.99611649  0.         -0.08804509]]\n",
      "\n",
      " [[ 0.          0.          0.        ]\n",
      "  [ 1.          0.          0.        ]]\n",
      "\n",
      " [[ 0.          0.          0.        ]\n",
      "  [ 0.99611649  0.          0.08804509]]\n",
      "\n",
      " [[ 0.          0.          0.        ]\n",
      "  [ 0.98473193  0.          0.17407766]]\n",
      "\n",
      " [[ 0.          0.          0.        ]\n",
      "  [ 0.96659535  0.          0.2563073 ]]\n",
      "\n",
      " [[ 0.          0.          0.        ]\n",
      "  [ 0.93955235  0.08304548 -0.33218192]]\n",
      "\n",
      " [[ 0.          0.          0.        ]\n",
      "  [ 0.96308682  0.08512565 -0.25537696]]\n",
      "\n",
      " [[ 0.          0.          0.        ]\n",
      "  [ 0.98102294  0.086711   -0.17342199]]\n",
      "\n",
      " [[ 0.          0.          0.        ]\n",
      "  [ 0.99227788  0.0877058  -0.0877058 ]]\n",
      "\n",
      " [[ 0.          0.          0.        ]\n",
      "  [ 0.99611649  0.08804509  0.        ]]\n",
      "\n",
      " [[ 0.          0.          0.        ]\n",
      "  [ 0.99227788  0.0877058   0.0877058 ]]\n",
      "\n",
      " [[ 0.          0.          0.        ]\n",
      "  [ 0.98102294  0.086711    0.17342199]]\n",
      "\n",
      " [[ 0.          0.          0.        ]\n",
      "  [ 0.96308682  0.08512565  0.25537696]]\n",
      "\n",
      " [[ 0.          0.          0.        ]\n",
      "  [ 0.92998111  0.16439899 -0.32879797]]\n",
      "\n",
      " [[ 0.          0.          0.        ]\n",
      "  [ 0.95278613  0.16843038 -0.25264558]]\n",
      "\n",
      " [[ 0.          0.          0.        ]\n",
      "  [ 0.9701425   0.17149859 -0.17149859]]\n",
      "\n",
      " [[ 0.          0.          0.        ]\n",
      "  [ 0.98102294  0.17342199 -0.086711  ]]\n",
      "\n",
      " [[ 0.          0.          0.        ]\n",
      "  [ 0.98473193  0.17407766  0.        ]]\n",
      "\n",
      " [[ 0.          0.          0.        ]\n",
      "  [ 0.98102294  0.17342199  0.086711  ]]\n",
      "\n",
      " [[ 0.          0.          0.        ]\n",
      "  [ 0.9701425   0.17149859  0.17149859]]\n",
      "\n",
      " [[ 0.          0.          0.        ]\n",
      "  [ 0.95278613  0.16843038  0.25264558]]\n",
      "\n",
      " [[ 0.          0.          0.        ]\n",
      "  [ 0.91465912  0.24253563 -0.32338083]]\n",
      "\n",
      " [[ 0.          0.          0.        ]\n",
      "  [ 0.93632918  0.24828177 -0.24828177]]\n",
      "\n",
      " [[ 0.          0.          0.        ]\n",
      "  [ 0.95278613  0.25264558 -0.16843038]]\n",
      "\n",
      " [[ 0.          0.          0.        ]\n",
      "  [ 0.96308682  0.25537696 -0.08512565]]\n",
      "\n",
      " [[ 0.          0.          0.        ]\n",
      "  [ 0.96659535  0.2563073   0.        ]]\n",
      "\n",
      " [[ 0.          0.          0.        ]\n",
      "  [ 0.96308682  0.25537696  0.08512565]]\n",
      "\n",
      " [[ 0.          0.          0.        ]\n",
      "  [ 0.95278613  0.25264558  0.16843038]]\n",
      "\n",
      " [[ 0.          0.          0.        ]\n",
      "  [ 0.93632918  0.24828177  0.24828177]]]\n"
     ]
    }
   ],
   "source": [
    "Ray = npt.NDArray[np.float64]\n",
    "\n",
    "\n",
    "class Camera:\n",
    "    def __init__(self, imageSize: ImageSize) -> None:\n",
    "        assert 0 < imageSize.width and 0 < imageSize.height, f\"image cant have negative Dimestions, was {imageSize}\"\n",
    "        self.imageSize = imageSize\n",
    "        self.unitPerPixel = np.sqrt(\n",
    "            self.imageSize.width ** 2 + self.imageSize.height ** 2)\n",
    "        self.sensorPosition = np.array([1, 0, 0])\n",
    "        self.aperturePosition = np.array([0, 0, 0])\n",
    "\n",
    "    def getRays(self) -> npt.NDArray[np.float64]:\n",
    "        x = (-self.imageSize.width/2 + np.arange(self.imageSize.width))/self.unitPerPixel\n",
    "        y = (-self.imageSize.height/2 + np.arange(self.imageSize.height))/self.unitPerPixel\n",
    "        xx, yy = np.meshgrid(x, y)\n",
    "        grid = np.array([np.zeros(xx.shape), xx, yy])\n",
    "        # this is the sensor Plane\n",
    "        grid = grid.T\n",
    "        grid = grid.reshape((self.imageSize.width*self.imageSize.height, 3))\n",
    "        \n",
    "        pixelPos = self.sensorPosition + grid\n",
    "        rayDirection = normalizeVector(pixelPos - self.aperturePosition,1)\n",
    "        rayLocation = np.zeros(rayDirection.shape)\n",
    "        rayLocation += self.aperturePosition\n",
    "        rays = np.array([rayLocation, rayDirection])\n",
    "        return rays.transpose((1, 0, 2))\n",
    "\n",
    "\n",
    "rays = Camera(ImageSize(8, 8)).getRays()\n",
    "print(rays)"
   ]
  },
  {
   "cell_type": "code",
   "execution_count": 379,
   "metadata": {},
   "outputs": [
    {
     "data": {
      "text/plain": [
       "array([ 4.,  4., inf])"
      ]
     },
     "execution_count": 379,
     "metadata": {},
     "output_type": "execute_result"
    }
   ],
   "source": [
    "\n",
    "class Object(ABC):\n",
    "    @abstractmethod\n",
    "    def hit(self, rays):\n",
    "        pass\n",
    "\n",
    "\n",
    "class Circle(Object):\n",
    "    def __init__(self, center: Vec, radius: float, material: Material) -> None:\n",
    "        self.center = center\n",
    "        self.radius = radius\n",
    "        self.material = material\n",
    "        super().__init__()\n",
    "\n",
    "    def _elemwiseDot(self, a,b):\n",
    "        return np.sum(a*b, axis=1)\n",
    "\n",
    "    def hit(self, rays):\n",
    "        # get location and direction arrays\n",
    "        locations = rays[:, 0::2,:].squeeze(1)\n",
    "        directions = rays[:, 1::2].squeeze(1)\n",
    "\n",
    "        # calculate b, c and delta\n",
    "        a = 1\n",
    "        b = 2 * self._elemwiseDot(directions, (locations - self.center))\n",
    "        c = np.linalg.norm(locations - self.center, axis=1) ** 2 - self.radius ** 2\n",
    "        delta = b ** 2 - 4*a*c\n",
    "        t = np.full(c.shape, np.Inf)\n",
    "\n",
    "        # filter out all values for which delta is < 0\n",
    "        filter = [d >= 0 for d in delta]\n",
    "        delta = delta[filter]\n",
    "        b = b[filter]\n",
    "        c = c[filter]\n",
    "        \n",
    "        # calculate t1 and t2\n",
    "        t1 = (-b + np.sqrt(delta))/(2*a)\n",
    "        t2 = (-b - np.sqrt(delta))/(2*a)\n",
    "\n",
    "        # take the smallest t or 0 if t<0\n",
    "        tn = np.minimum(t1,t2)\n",
    "        tn = np.where(tn >= 0.0, tn, np.maximum(t1,t2))\n",
    "        tn = np.where(tn <= 0.0, np.inf, tn)\n",
    "        t[filter] = tn\n",
    "        return t\n",
    "    \n",
    "    def getNormal(self, point: Vec):\n",
    "        return normalizeVector(point - self.center)\n",
    "\n",
    "\n",
    "\n",
    "rays = np.array([\n",
    "    [[0, 0, 0],[1, 0, 0]],\n",
    "    [[0, 0, 0], [1, 0, 0]],\n",
    "    [[0, 10, 0],[1, 0, 0]]\n",
    "    ])\n",
    "circle: Object = Circle(np.array([5, 0, 0]), 1, Diffuse(np.array([0,0,0])))\n",
    "circle.hit(rays)\n"
   ]
  },
  {
   "cell_type": "code",
   "execution_count": 348,
   "metadata": {},
   "outputs": [],
   "source": [
    "class Material(ABC):\n",
    "    @abstractmethod\n",
    "    def outRay(self, inRay: Ray, normal: Vec, hitPoint: Vec) -> Ray:\n",
    "        pass\n",
    "\n",
    "\n",
    "# NEU: das Diffuse Material\n",
    "class Diffuse(Material):\n",
    "    def __init__(self, color) -> None:\n",
    "        self.color = color\n",
    "        super().__init__()\n",
    "\n",
    "    def outRay(self, inRay: Ray, normal: Vec, hitPoint: Vec) -> Ray:\n",
    "        point = randomOnUnitSphere() + normalizeVector(normal) + hitPoint\n",
    "        direction = normalizeVector(point - hitPoint)\n",
    "        location = hitPoint\n",
    "        return np.array([location, direction, self.color])\n",
    "\n",
    "# NEU: das Emmisive Material\n",
    "class Emissive(Material):\n",
    "    def __init__(self, color) -> None:\n",
    "        self.color = color\n",
    "        super().__init__()\n",
    "\n",
    "    def outRay(self, inRay: Ray, normal: Vec, hitPoint: Vec) -> Ray:\n",
    "        direction = np.array([np.inf, np.inf, np.inf])\n",
    "        location = np.array([np.inf, np.inf, np.inf])\n",
    "        return np.array([location, direction, self.color])\n"
   ]
  },
  {
   "cell_type": "code",
   "execution_count": 385,
   "metadata": {},
   "outputs": [
    {
     "data": {
      "text/plain": [
       "<matplotlib.image.AxesImage at 0x28ca70f1690>"
      ]
     },
     "execution_count": 385,
     "metadata": {},
     "output_type": "execute_result"
    },
    {
     "data": {
      "image/png": "[encoded data removed]",
      "text/plain": [
       "<Figure size 640x480 with 1 Axes>"
      ]
     },
     "metadata": {},
     "output_type": "display_data"
    }
   ],
   "source": [
    "def bounce(rays, objects ,bounces):\n",
    "    colors = np.full((rays.shape[0], 3),0.0)\n",
    "    rayCount = rays.shape[0]\n",
    "    \n",
    "    if(bounces)<=0:\n",
    "        return colors\n",
    "    bounces -= 1\n",
    "\n",
    "    if(rayCount<=0):\n",
    "        return np.array([0,0,0])\n",
    "    \n",
    "    # important vars\n",
    "    raysT= rays.transpose((1, 0, 2))\n",
    "    locations = raysT[0]\n",
    "    directions= raysT[1]\n",
    "\n",
    "    # find hit\n",
    "    hits = np.asarray([obj.hit(rays) for obj in objects])\n",
    "    hits = hits.T\n",
    "    \n",
    "    # filter out all rays that hit nothing\n",
    "    dontHitWorld = np.any(hits != np.inf, axis=1)\n",
    "    rays = rays[dontHitWorld]\n",
    "    locations = locations[dontHitWorld]\n",
    "    directions = directions[dontHitWorld]\n",
    "    hits = hits[dontHitWorld]\n",
    "    hitIndexes = hits.argmin(axis=1)\n",
    "    \n",
    "    # get props of hit\n",
    "    t = np.asarray([hits[i, hitIndexes[i]] for i in range(rayCount)])\n",
    "    hitPoints = directions * t[:, np.newaxis] + locations\n",
    "    objects = [objects[hit] for hit in hitIndexes]\n",
    "    materials = [obj.material for obj in objects]\n",
    "    normals = [obj.getNormal(hitPoint)\n",
    "               for obj, hitPoint in zip(objects, hitPoints)]\n",
    "\n",
    "\n",
    "    # get new rays from materials\n",
    "    ret = np.asarray([material.outRay(ray, normal, hitPoint) for material,\n",
    "                       ray, normal, hitPoint in zip(materials, rays, normals, hitPoints)])\n",
    "    retT = ret.transpose((1,0,2))\n",
    "    locations = retT[0]\n",
    "    directions = retT[1]\n",
    "\n",
    "    # get the colors from the rays\n",
    "    colors[dontHitWorld] = retT[2]\n",
    "\n",
    "    # find all rays where location[0] == np.inf\n",
    "    rayFilter = np.any(locations != np.inf, axis=1)\n",
    "    locations = locations[rayFilter]\n",
    "    directions = directions[rayFilter]\n",
    "    rays = np.array([locations, directions])\n",
    "    rays = rays.transpose((1,0,2))\n",
    "\n",
    "    colors[rayFilter] *= bounce(rays, objects, bounces)\n",
    "    return colors\n",
    "        \n",
    "\n",
    "def render(camera: Camera, objects: list[Object], bounces):\n",
    "    rays = camera.getRays()\n",
    "    img = bounce(rays, objects, bounces)\n",
    "    img = img.reshape((camera.imageSize.width, camera.imageSize.height,3))\n",
    "    return img\n",
    "\n",
    "camera = Camera(ImageSize(50, 50))\n",
    "objects: list[Object] = [Circle(np.array([50, 0, 0]), 10, Diffuse([0.5, 0.7, 0.5])),\n",
    "                         Circle(np.array([0, 5000, 0]),\n",
    "                                4990, Diffuse([0.5, 0.5, 0.7])),\n",
    "                         Circle(np.array([0, 0, 0]), 5000, Emissive([5, 5, 5]))]\n",
    "\n",
    "img = render(camera, objects, 10)\n",
    "img = img/50\n",
    "img = np.sqrt(img*2.2)  # Gamma 2.2\n",
    "plt.imshow(img)"
   ]
  }
 ],
 "metadata": {
  "kernelspec": {
   "display_name": "Python 3.10.7 64-bit",
   "language": "python",
   "name": "python3"
  },
  "language_info": {
   "codemirror_mode": {
    "name": "ipython",
    "version": 3
   },
   "file_extension": ".py",
   "mimetype": "text/x-python",
   "name": "python",
   "nbconvert_exporter": "python",
   "pygments_lexer": "ipython3",
   "version": "3.10.8"
  },
  "orig_nbformat": 4,
  "vscode": {
   "interpreter": {
    "hash": "369f2c481f4da34e4445cda3fffd2e751bd1c4d706f27375911949ba6bb62e1c"
   }
  }
 },
 "nbformat": 4,
 "nbformat_minor": 2
}
