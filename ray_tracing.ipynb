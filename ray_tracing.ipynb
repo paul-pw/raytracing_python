{
 "cells": [
  {
   "cell_type": "markdown",
   "metadata": {},
   "source": [
    "# Ray Tracing\n",
    "\n",
    "## Grundlagen\n",
    "\n",
    "Was ist die grundlegende Idee von Raytracing?\n",
    "Wichtig ist dafür zuerst zu verstehen wie Licht funktioniert.\n",
    "\n",
    "Ein einfacher Ansatz dafür ist, anzunehmen das Licht aus Strahlen besteht.  \n",
    "Diese Strahlen werden aus einer Lichtquelle ausgesendet, werden von Objekten reflektiert und absorbiert und zu guter Letzt kommen sie im Beobachters an.  \n",
    "Der Beobachter wird hier Kamera genannt.\n",
    "\n",
    "Schematisch und zwei dimensional sieht das so aus:\n",
    "![][2d_ray_tracing]\n",
    "\n",
    "Schritt für Schritt müssen also folgende Dinge geschehen: <!--TODO bessere Formulierung-->\n",
    "\n",
    "1. Die Lichtquelle sendet einen Lichtstrahl aus\n",
    "2. Dieser Lichtstrahl trifft auf ein Objekt\n",
    "3. Das Objekt reflektiert und absorbiert teil des Lichtstrahls\n",
    "4. Schritt 2 und 3 wiederholen sich bis der Lichtstrahl entweder eine Kamera oder kein Objekt mehr trifft\n",
    "5. Lichtstrahl trifft auf die Kamera\n",
    "6. Schritt 1 bis 6 werden wiederholt bis der Nutzer mit dem gerenderten Bild zufrieden ist\n",
    "\n",
    "<!--TODO bild durch nur kreise ersetzen-->\n",
    "[2d_ray_tracing]: ./assets/2D_ray_tracing.png"
   ]
  },
  {
   "cell_type": "markdown",
   "metadata": {},
   "source": [
    "### Aussenden eines Lichtstrahls\n",
    "\n",
    "Zu Beginn wird eine einfache punktförmige Lichtquelle betrachtet, die ihre Lichtstrahlen in alle Richtungen gleich aussendet.\n",
    "Die Lichtquelle kann nicht wie in der realen Welt unendlich viele Lichtstrahlen gleichzeitig aussenden.\n",
    "Daher wird immer nur ein Lichtstrahl in eine zufällige Richtung von der Lichtquelle ausgesendet.\n",
    "Damit ergibt sich im Durchschnitt eine gleichmäßige Aussendung von Lichtstrahlen in alle Richtungen.\n",
    "\n",
    "Um das umsetzen zu können muss zuerst definiert werden, was ein Lichtstrahl ist.\n",
    "Ein Lichtstrahl besteht aus Ortsvektor und Richtungsvektor.\n",
    "Der Ortsvektor gibt dabei den Punkt an, an dem der Lichtstrahl ausgesendet wurde.  \n",
    "Also $\\vec{ray(t)}=\\vec{O}+\\vec{d}*t$"
   ]
  },
  {
   "cell_type": "code",
   "execution_count": 44,
   "metadata": {},
   "outputs": [
    {
     "data": {
      "text/plain": [
       "Ray(location=array([1, 1]), direction=array([ 0.95236045, -0.30497471]))"
      ]
     },
     "execution_count": 44,
     "metadata": {},
     "output_type": "execute_result"
    }
   ],
   "source": [
    "import numpy as np\n",
    "import numpy.typing as npt\n",
    "from typing import NamedTuple, Tuple\n",
    "\n",
    "Vec2 = npt.NDArray[np.float64]\n",
    "\n",
    "class Ray(NamedTuple):\n",
    "    location: Vec2\n",
    "    direction: Vec2\n",
    "\n",
    "class LightSoruce(Vec2): # only has a location vector\n",
    "    pass\n",
    "\n",
    "def generateRayFromLightSource(lightSource: LightSoruce) -> Ray:\n",
    "    # einen zufälligen winkel zwischen 0 und 2\\pi generieren\n",
    "    angle = np.random.rand() * 2 * np.pi\n",
    "\n",
    "    # diesen Winkel in einen Rihtungsvektor umwandeln\n",
    "    direction = np.array([np.cos(angle), np.sin(angle)])\n",
    "\n",
    "    # daraus resultiert ein Lichtstrahl\n",
    "    return Ray(lightSource, direction)\n",
    "\n",
    "generateRayFromLightSource(np.array([1,1]))"
   ]
  },
  {
   "cell_type": "markdown",
   "metadata": {},
   "source": [
    "\n",
    "### Schnittpunkt eines Lichtstrahls mit einem Objekt\n",
    "\n",
    "Nachdem der Lichtstrahl ausgesendet wurde, muss der erste Auftreffpunkt des Lichtstrahls auf einem Objekt berechnet werden.\n",
    "Hier werden zur Vereinfachung nur Kreise als Objekte genutzt. \n",
    "Schnittpunkte sind dabei alle Punkte, die genau den Radius $r$ des Kreises von dessen Mittelpunkt $C$ entfernt sind.\n",
    "also:\n",
    "\n",
    "$$\n",
    "||\\vec{P}-\\vec{C}||=r\n",
    "$$\n",
    "\n",
    "Für die Lichtstrahlen gilt damit\n",
    "\n",
    "$$\n",
    "||\\vec{ray(t)}-\\vec{C}||=r\n",
    "$$\n",
    "$$\n",
    "||\\vec{O}+\\vec{d}*t-\\vec{C}|| = r\n",
    "$$\n",
    "\n",
    "umgeformt ergibt das eine Quadratische Gleichung:\n",
    "\n",
    "$$\n",
    "||\\vec{d}||^2*t^2+2t*<\\vec{d},\\vec{O}-\\vec{C}>+<\\vec{O}-\\vec{C},\\vec{O}-\\vec{C}>-r^2=0\n",
    "$$\n",
    "\n",
    "um die Schnittpunkte heruaszufinden, muss die Gleichung nacht $t$ aufgelöst werden. \n",
    "Das wird hier in code umgesetzt."
   ]
  },
  {
   "cell_type": "code",
   "execution_count": 55,
   "metadata": {},
   "outputs": [
    {
     "data": {
      "text/plain": [
       "[6.0, 4.0]"
      ]
     },
     "execution_count": 55,
     "metadata": {},
     "output_type": "execute_result"
    }
   ],
   "source": [
    "class Circle(NamedTuple):\n",
    "    center: Vec2\n",
    "    radius: float\n",
    "\n",
    "def intersectCircle(ray :Ray, circle: Circle) -> list[float]:\n",
    "    a = 1\n",
    "    b = 2 * np.dot(ray.direction, ray.location - circle.center)\n",
    "    c = np.linalg.norm(ray.location - circle.center) ** 2 - circle.radius ** 2\n",
    "    delta = b ** 2 - 4*a*c\n",
    "    if delta > 0:\n",
    "        t1 = (-b + np.sqrt(delta))/(2*a)\n",
    "        t2 = (-b - np.sqrt(delta))/(2*a)\n",
    "        return [t1,t2]\n",
    "    return []\n",
    "\n",
    "ray = Ray(np.array([0,0]),np.array([1,0]))\n",
    "circle = Circle(np.array([5,0]),1)\n",
    "\n",
    "\n",
    "intersectCircle(ray, circle)"
   ]
  },
  {
   "cell_type": "markdown",
   "metadata": {},
   "source": [
    "Diese Berechnung muss nun für alle Objekte gemacht werden. Dabei ergeben sich voraussichtlich mehrere Werte für $t$.\n",
    "Der Auftreffpunkt des Lichtstrahls ist der Punkt, für den $t$ minimal aber größer Null ist. "
   ]
  },
  {
   "cell_type": "markdown",
   "metadata": {},
   "source": [
    "### Lichtstrahl Reflexion/Absorption"
   ]
  },
  {
   "cell_type": "markdown",
   "metadata": {},
   "source": [
    "### Lichtstrahl in Kamera"
   ]
  }
 ],
 "metadata": {
  "kernelspec": {
   "display_name": "Python 3.10.7 64-bit",
   "language": "python",
   "name": "python3"
  },
  "language_info": {
   "codemirror_mode": {
    "name": "ipython",
    "version": 3
   },
   "file_extension": ".py",
   "mimetype": "text/x-python",
   "name": "python",
   "nbconvert_exporter": "python",
   "pygments_lexer": "ipython3",
   "version": "3.10.8"
  },
  "orig_nbformat": 4,
  "vscode": {
   "interpreter": {
    "hash": "369f2c481f4da34e4445cda3fffd2e751bd1c4d706f27375911949ba6bb62e1c"
   }
  }
 },
 "nbformat": 4,
 "nbformat_minor": 2
}
