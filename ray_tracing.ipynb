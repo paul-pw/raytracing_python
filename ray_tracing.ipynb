{
 "cells": [
  {
   "cell_type": "markdown",
   "metadata": {},
   "source": [
    "# Ray Tracing\n",
    "\n",
    "## Grundlagen\n",
    "\n",
    "Was ist die grundlegende Idee von Raytracing?\n",
    "Wichtig ist dafür zuerst zu verstehen wie Licht funktioniert.\n",
    "\n",
    "Ein einfacher Ansatz dafür ist, anzunehmen das Licht aus Strahlen besteht.  \n",
    "Diese Strahlen werden aus einer Lichtquelle ausgesendet, werden von Objekten reflektiert und absorbiert und zu guter Letzt kommen sie im Beobachters an.  \n",
    "Der Beobachter wird hier Kamera genannt.\n",
    "\n",
    "Schematisch und zwei dimensional sieht das so aus:\n",
    "![][2d_ray_tracing]<!--TODO bild besser einfügen-->\n",
    "\n",
    "Schritt für Schritt müssen also folgende Dinge geschehen: <!--TODO bessere Formulierung-->\n",
    "\n",
    "1. Die Lichtquelle sendet einen Lichtstrahl aus\n",
    "2. Dieser Lichtstrahl trifft auf ein Objekt\n",
    "3. Das Objekt reflektiert und absorbiert teil des Lichtstrahls\n",
    "4. Schritt 2 und 3 wiederholen sich bis der Lichtstrahl entweder eine Kamera oder kein Objekt mehr trifft\n",
    "5. Lichtstrahl trifft auf die Kamera\n",
    "6. Schritt 1 bis 6 werden wiederholt bis der Nutzer mit dem gerenderten Bild zufrieden ist\n",
    "\n",
    "Dieser Ansatz ist allerdings sehr ineffizient, da dann viele Lichtstrahlen keine Kamera treffen.\n",
    "Für eine bessere Optimierung werden die Lichtstrahlen aus der Kamera ausgesendet und der Lichtpfad wird erst nach dem Auftreffen auf die Lichtquelle vollständig berechnet.\n",
    "\n",
    "<!--TODO bild durch nur kreise ersetzen-->\n",
    "[2d_ray_tracing]: ./assets/2D_ray_tracing.png"
   ]
  },
  {
   "cell_type": "markdown",
   "metadata": {},
   "source": [
    "\n",
    "## Lichtstrahlen (Rays)\n",
    "\n",
    "Ein Lichtstrahl besteht aus Ortsvektor und Richtungsvektor.\n",
    "Der Ortsvektor gibt dabei den Punkt an, an dem der Lichtstrahl ausgesendet wurde\n",
    "und der Richtungsvektor die Richtung in die der Strahl gesendet wird.  \n",
    "Also $\\vec{ray(t)}=\\vec{O}+\\vec{d}*t$\n",
    "\n",
    "in Python definieren wir einen Ray so:"
   ]
  },
  {
   "cell_type": "code",
   "execution_count": 43,
   "metadata": {},
   "outputs": [],
   "source": [
    "import numpy as np\n",
    "import numpy.typing as npt\n",
    "from typing import NamedTuple, Tuple\n",
    "\n",
    "Vec = npt.NDArray[np.float64]\n",
    "\n",
    "class Ray(NamedTuple):\n",
    "    location: Vec\n",
    "    direction: Vec\n"
   ]
  },
  {
   "cell_type": "markdown",
   "metadata": {},
   "source": [
    "Typischerweise ist der Richtungsvektor normiert, dafür dient diese Funktion"
   ]
  },
  {
   "cell_type": "code",
   "execution_count": 44,
   "metadata": {},
   "outputs": [],
   "source": [
    "def normalizeVector(vec: Vec):\n",
    "    return vec/np.linalg.norm(vec)"
   ]
  },
  {
   "cell_type": "markdown",
   "metadata": {},
   "source": [
    "## Aussenden eines Lichtstrahls\n",
    "\n",
    "Die Kamera sendet Lichtstrahlen aus.\n",
    "Die Kamera ist modelliert als eine Lochkamera. Es gibt einen Sensor, auf dem alle Pixel liegen. Der Sensor ist eine Fläche.\n",
    "Alle Lichtstrahlen werden von den Pixeln des Sensors über einen Punkt, die Blende, ausgesendet.\n",
    "\n",
    "<!--Bild updaten-->\n",
    "![](./assets/kamera.png)\n"
   ]
  },
  {
   "cell_type": "code",
   "execution_count": 45,
   "metadata": {},
   "outputs": [
    {
     "data": {
      "text/plain": [
       "Ray(location=array([0, 0, 0]), direction=array([ 0.99407169, -0.07688131, -0.07688131]))"
      ]
     },
     "execution_count": 45,
     "metadata": {},
     "output_type": "execute_result"
    }
   ],
   "source": [
    "class ImageSize(NamedTuple):\n",
    "    width: int\n",
    "    height: int\n",
    "\n",
    "class Camera:\n",
    "    def __init__(self, imageSize: ImageSize) -> None:\n",
    "        assert 0 < imageSize.width and 0 < imageSize.height, f\"image cant have negative Dimestions, was {imageSize}\"\n",
    "        self.imageSize = imageSize\n",
    "        self.unitPerPixel = np.sqrt(self.imageSize.width ** 2 + self.imageSize.height ** 2)\n",
    "        self.sensorPosition = np.array([1,0,0])\n",
    "        self.aperturePosition = np.array([0,0,0])\n",
    "    \n",
    "    def _getRay(self, pixelX:int,pixelY:int)->Ray:\n",
    "        assert 0 <= pixelX < self.imageSize.width, f\"pixelX has to be in Image, was {pixelX}\" \n",
    "        assert 0 <= pixelY < self.imageSize.height, f\"pixelY has to be in Image, was {pixelY}\"\n",
    "        x = -self.imageSize.width/2 + pixelX\n",
    "        y = -self.imageSize.height/2 + pixelY\n",
    "        pixelPos = self.sensorPosition + np.array([0, x/self.unitPerPixel, y/self.unitPerPixel])\n",
    "        rayDirection = normalizeVector(pixelPos - self.aperturePosition)\n",
    "        return Ray(self.aperturePosition, rayDirection)\n",
    "\n",
    "camera = Camera(ImageSize(128, 128))\n",
    "camera._getRay(50,50)"
   ]
  },
  {
   "cell_type": "markdown",
   "metadata": {},
   "source": [
    "\n",
    "## Schnittpunkt eines Lichtstrahls mit einem Objekt\n",
    "\n",
    "Nachdem der Lichtstrahl ausgesendet wurde, muss der erste Auftreffpunkt des Lichtstrahls auf einem Objekt berechnet werden.\n",
    "Hier werden zur Vereinfachung nur Kreise als Objekte genutzt. \n",
    "Schnittpunkte sind dabei alle Punkte, die genau den Radius $r$ des Kreises von dessen Mittelpunkt $C$ entfernt sind.\n",
    "also:\n",
    "\n",
    "$$\n",
    "||\\vec{P}-\\vec{C}||=r\n",
    "$$\n",
    "\n",
    "Für die Lichtstrahlen gilt damit\n",
    "\n",
    "$$\n",
    "||\\vec{ray(t)}-\\vec{C}||=r\n",
    "$$\n",
    "$$\n",
    "||\\vec{O}+\\vec{d}*t-\\vec{C}|| = r\n",
    "$$\n",
    "\n",
    "umgeformt ergibt das eine Quadratische Gleichung:\n",
    "\n",
    "$$\n",
    "||\\vec{d}||^2*t^2+2t*<\\vec{d},\\vec{O}-\\vec{C}>+<\\vec{O}-\\vec{C},\\vec{O}-\\vec{C}>-r^2=0\n",
    "$$\n",
    "\n",
    "um die Schnittpunkte heruaszufinden, muss die Gleichung nacht $t$ aufgelöst werden. \n",
    "Das wird hier in code umgesetzt."
   ]
  },
  {
   "cell_type": "code",
   "execution_count": 56,
   "metadata": {},
   "outputs": [
    {
     "data": {
      "text/plain": [
       "[6.0, 4.0]"
      ]
     },
     "execution_count": 56,
     "metadata": {},
     "output_type": "execute_result"
    }
   ],
   "source": [
    "from abc import ABC, abstractmethod \n",
    "\n",
    "class Object:\n",
    "    @abstractmethod\n",
    "    def hit(self, ray: Ray) -> npt.NDArray[np.float64]:\n",
    "        pass\n",
    "\n",
    "class Circle(Object):\n",
    "    def __init__(self, center: Vec, radius: float) -> None:\n",
    "        self.center = center\n",
    "        self.radius = radius\n",
    "        super().__init__()\n",
    "\n",
    "    def hit(self, ray: Ray) -> npt.NDArray[np.float64]:\n",
    "        a = 1\n",
    "        b = 2 * np.dot(ray.direction, ray.location - self.center)\n",
    "        c = np.linalg.norm(ray.location - self.center) ** 2 - self.radius ** 2\n",
    "        delta = b ** 2 - 4*a*c\n",
    "        if delta > 0:\n",
    "            t1 = (-b + np.sqrt(delta))/(2*a)\n",
    "            t2 = (-b - np.sqrt(delta))/(2*a)\n",
    "            return [t1,t2]\n",
    "        return []\n",
    "    \n",
    "\n",
    "ray = Ray(np.array([0,0,0]),np.array([1,0,0]))\n",
    "circle: Object = Circle(np.array([5,0,0]),1)\n",
    "\n",
    "circle.hit(ray)"
   ]
  },
  {
   "cell_type": "markdown",
   "metadata": {},
   "source": [
    "Diese Berechnung muss nun für alle Objekte gemacht werden. Dabei ergeben sich voraussichtlich mehrere Werte für $t$.\n",
    "Der Auftreffpunkt des Lichtstrahls ist der Punkt, für den $t$ minimal aber größer Null ist. "
   ]
  },
  {
   "cell_type": "markdown",
   "metadata": {},
   "source": [
    "## Erster Test\n",
    "\n",
    "Nun kann alles ein erstes Mal getestet werden.\n",
    "<!--TODO text hier-->"
   ]
  },
  {
   "cell_type": "code",
   "execution_count": 65,
   "metadata": {},
   "outputs": [
    {
     "name": "stdout",
     "output_type": "stream",
     "text": [
      "ImageSize(width=256, height=512)\n"
     ]
    },
    {
     "data": {
      "text/plain": [
       "<matplotlib.image.AxesImage at 0x159790241f0>"
      ]
     },
     "execution_count": 65,
     "metadata": {},
     "output_type": "execute_result"
    },
    {
     "data": {
      "image/png": "[encoded data removed]",
      "text/plain": [
       "<Figure size 640x480 with 1 Axes>"
      ]
     },
     "metadata": {},
     "output_type": "display_data"
    }
   ],
   "source": [
    "import matplotlib.pyplot as plt\n",
    "\n",
    "camera = Camera(ImageSize(256, 512))\n",
    "circle: Object = Circle(np.array([5, 0, 0]), 1)\n",
    "\n",
    "img = np.zeros(camera.imageSize)\n",
    "\n",
    "for x in range(camera.imageSize.width):\n",
    "    for y in range(camera.imageSize.height):\n",
    "        ray = camera._getRay(x,y)\n",
    "        hits = circle.hit(ray)\n",
    "        if len(hits)>0:\n",
    "            img[x,y] = 1\n",
    "\n",
    "plt.imshow(img)\n"
   ]
  },
  {
   "cell_type": "markdown",
   "metadata": {},
   "source": [
    "## Lichtstrahl Reflexion/Absorption"
   ]
  },
  {
   "cell_type": "markdown",
   "metadata": {},
   "source": [
    "## Lichtstrahl in Kamera"
   ]
  }
 ],
 "metadata": {
  "kernelspec": {
   "display_name": "Python 3.10.7 64-bit",
   "language": "python",
   "name": "python3"
  },
  "language_info": {
   "codemirror_mode": {
    "name": "ipython",
    "version": 3
   },
   "file_extension": ".py",
   "mimetype": "text/x-python",
   "name": "python",
   "nbconvert_exporter": "python",
   "pygments_lexer": "ipython3",
   "version": "3.10.8"
  },
  "orig_nbformat": 4,
  "vscode": {
   "interpreter": {
    "hash": "369f2c481f4da34e4445cda3fffd2e751bd1c4d706f27375911949ba6bb62e1c"
   }
  }
 },
 "nbformat": 4,
 "nbformat_minor": 2
}
